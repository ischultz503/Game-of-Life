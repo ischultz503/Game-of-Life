{
 "cells": [
  {
   "cell_type": "code",
   "execution_count": 15,
   "metadata": {
    "collapsed": false
   },
   "outputs": [
    {
     "name": "stdout",
     "output_type": "stream",
     "text": [
      "Using matplotlib backend: MacOSX\n"
     ]
    }
   ],
   "source": [
    "import numpy as np\n",
    "from matplotlib import animation\n",
    "from matplotlib.animation import FuncAnimation\n",
    "import matplotlib.pyplot as plt\n",
    "%matplotlib"
   ]
  },
  {
   "cell_type": "code",
   "execution_count": 16,
   "metadata": {
    "collapsed": false
   },
   "outputs": [],
   "source": [
    "xmax = 100\n",
    "ymax = 100\n",
    "generations = 500\n",
    "multiverse = {}\n",
    "Writer = animation.writers['ffmpeg']\n",
    "writer = Writer(fps=20, bitrate=1800)"
   ]
  },
  {
   "cell_type": "code",
   "execution_count": 17,
   "metadata": {
    "collapsed": false
   },
   "outputs": [],
   "source": [
    "glider_gun =\\\n",
    "[[0,0,0,0,0,0,0,0,0,0,0,0,0,0,0,0,0,0,0,0,0,0,0,0,1,0,0,0,0,0,0,0,0,0,0,0],\n",
    " [0,0,0,0,0,0,0,0,0,0,0,0,0,0,0,0,0,0,0,0,0,0,1,0,1,0,0,0,0,0,0,0,0,0,0,0],\n",
    " [0,0,0,0,0,0,0,0,0,0,0,0,1,1,0,0,0,0,0,0,1,1,0,0,0,0,0,0,0,0,0,0,0,0,1,1],\n",
    " [0,0,0,0,0,0,0,0,0,0,0,1,0,0,0,1,0,0,0,0,1,1,0,0,0,0,0,0,0,0,0,0,0,0,1,1],\n",
    " [1,1,0,0,0,0,0,0,0,0,1,0,0,0,0,0,1,0,0,0,1,1,0,0,0,0,0,0,0,0,0,0,0,0,0,0],\n",
    " [1,1,0,0,0,0,0,0,0,0,1,0,0,0,1,0,1,1,0,0,0,0,1,0,1,0,0,0,0,0,0,0,0,0,0,0],\n",
    " [0,0,0,0,0,0,0,0,0,0,1,0,0,0,0,0,1,0,0,0,0,0,0,0,1,0,0,0,0,0,0,0,0,0,0,0],\n",
    " [0,0,0,0,0,0,0,0,0,0,0,1,0,0,0,1,0,0,0,0,0,0,0,0,0,0,0,0,0,0,0,0,0,0,0,0],\n",
    " [0,0,0,0,0,0,0,0,0,0,0,0,1,1,0,0,0,0,0,0,0,0,0,0,0,0,0,0,0,0,0,0,0,0,0,0]]"
   ]
  },
  {
   "cell_type": "code",
   "execution_count": 18,
   "metadata": {
    "collapsed": false
   },
   "outputs": [],
   "source": [
    "X = np.zeros((100, 100))\n",
    "X[1:10,1:37] = glider_gun\n",
    "X[75:85,60:80:2] = 1"
   ]
  },
  {
   "cell_type": "code",
   "execution_count": 19,
   "metadata": {
    "collapsed": false
   },
   "outputs": [],
   "source": [
    "def get_ranges(x , y):\n",
    "    if x == xmax-1:\n",
    "        xrange = [xmax-2 , xmax-1 , 0]\n",
    "    if x == 0:\n",
    "        xrange = [xmax-1 , 0, 1]\n",
    "    else:\n",
    "        xrange = [x-1, x , x+1]\n",
    "    if y == ymax-1:\n",
    "        yrange = [ymax-2, ymax-1, 0]\n",
    "    if y == 0:\n",
    "        yrange = [ymax-1 , 0, 1]\n",
    "    else:\n",
    "        yrange = [y-1 , y , y+1]\n",
    "    return xrange , yrange"
   ]
  },
  {
   "cell_type": "code",
   "execution_count": 20,
   "metadata": {
    "collapsed": false
   },
   "outputs": [],
   "source": [
    "def count_neighbors(universe, x , y ):\n",
    "    xrange , yrange = get_ranges(x , y)[0] , get_ranges(x , y)[1]\n",
    "    if universe[ x , y ] == 1:\n",
    "        count = -1\n",
    "    else:\n",
    "        count = 0\n",
    "    for x in (xrange):\n",
    "        for y in (yrange):\n",
    "            if universe[ x , y ] == 1:\n",
    "                count = count + 1\n",
    "    return count"
   ]
  },
  {
   "cell_type": "code",
   "execution_count": 21,
   "metadata": {
    "collapsed": false
   },
   "outputs": [],
   "source": [
    "def step_forward(universe):\n",
    "    new_universe = np.zeros((xmax,ymax))\n",
    "    for x in range(xmax-1):\n",
    "        for y in range(ymax-1):\n",
    "            count = count_neighbors(universe, x , y)\n",
    "            if universe[x , y] == 1 and 2<= count <=3:\n",
    "                new_universe[ x , y ] = int(1)\n",
    "            elif universe[x , y] == 0 and count == 3:\n",
    "                new_universe[ x , y ] = int(1)\n",
    "    return new_universe"
   ]
  },
  {
   "cell_type": "code",
   "execution_count": 22,
   "metadata": {
    "collapsed": true
   },
   "outputs": [],
   "source": [
    "def life(generations):\n",
    "    past = np.random.randint(2, size=(xmax,ymax))\n",
    "    for i in range(generations):\n",
    "        future = step_forward(past)\n",
    "        past = future\n",
    "        display(future)"
   ]
  },
  {
   "cell_type": "code",
   "execution_count": 23,
   "metadata": {
    "collapsed": true
   },
   "outputs": [],
   "source": [
    "def display(universe):\n",
    "    plt.imshow(universe, cmap='binary')\n",
    "    plt.show()"
   ]
  },
  {
   "cell_type": "code",
   "execution_count": 24,
   "metadata": {
    "collapsed": false
   },
   "outputs": [],
   "source": [
    "def generate_movie_frames(N):\n",
    "    multiverse = {}\n",
    "    #past = np.random.randint(2, size=(xmax,ymax))\n",
    "    past = X\n",
    "    for n in range(N):\n",
    "        future = step_forward(past)\n",
    "        multiverse[n] = future\n",
    "        past = future\n",
    "    return multiverse"
   ]
  },
  {
   "cell_type": "code",
   "execution_count": 25,
   "metadata": {
    "collapsed": true
   },
   "outputs": [],
   "source": [
    "def animate(i):\n",
    "    plt.imshow(movie_frames[i] , cmap = 'binary')\n",
    "    ax.set_title(\"Generation #{}\".format(i), fontsize=20)"
   ]
  },
  {
   "cell_type": "code",
   "execution_count": null,
   "metadata": {
    "collapsed": false
   },
   "outputs": [],
   "source": [
    "movie_frames = generate_movie_frames(generations)\n",
    "fig , ax = plt.subplots(figsize=(8,6))\n",
    "movie = FuncAnimation(fig, animate, frames = range(generations), interval=50)\n",
    "plt.show()"
   ]
  },
  {
   "cell_type": "code",
   "execution_count": null,
   "metadata": {
    "collapsed": false
   },
   "outputs": [],
   "source": [
    "#plt.close()\n",
    "movie.save('game2.mp4', writer=writer)"
   ]
  },
  {
   "cell_type": "code",
   "execution_count": null,
   "metadata": {
    "collapsed": true
   },
   "outputs": [],
   "source": []
  }
 ],
 "metadata": {
  "anaconda-cloud": {},
  "kernelspec": {
   "display_name": "Python [Root]",
   "language": "python",
   "name": "Python [Root]"
  },
  "language_info": {
   "codemirror_mode": {
    "name": "ipython",
    "version": 3
   },
   "file_extension": ".py",
   "mimetype": "text/x-python",
   "name": "python",
   "nbconvert_exporter": "python",
   "pygments_lexer": "ipython3",
   "version": "3.5.2"
  }
 },
 "nbformat": 4,
 "nbformat_minor": 0
}
