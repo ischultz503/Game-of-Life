{
 "cells": [
  {
   "cell_type": "code",
   "execution_count": 66,
   "metadata": {
    "collapsed": false
   },
   "outputs": [
    {
     "name": "stdout",
     "output_type": "stream",
     "text": [
      "Using matplotlib backend: MacOSX\n"
     ]
    }
   ],
   "source": [
    "import numpy as np\n",
    "from matplotlib import animation\n",
    "from matplotlib.animation import FuncAnimation\n",
    "import matplotlib.pyplot as plt\n",
    "%matplotlib "
   ]
  },
  {
   "cell_type": "code",
   "execution_count": 67,
   "metadata": {
    "collapsed": false
   },
   "outputs": [],
   "source": [
    "Writer = animation.writers['ffmpeg']\n",
    "writer = Writer(fps = 15, bitrate=180)"
   ]
  },
  {
   "cell_type": "code",
   "execution_count": 68,
   "metadata": {
    "collapsed": false
   },
   "outputs": [],
   "source": [
    "class Universe:\n",
    "    def __init__(self, x_max , y_max):\n",
    "        self.x_max = x_max\n",
    "        self.y_max = y_max\n",
    "        self.grid = np.zeros((x_max, y_max))\n",
    "        \n",
    "    def add_source(self, x , y):\n",
    "        unbounded_seed = [[1, 1, 1, 0, 1],\n",
    "                     [1, 0, 0, 0, 0],\n",
    "                     [0, 0, 0, 1, 1],\n",
    "                     [0, 1, 1, 0, 1],\n",
    "                     [1, 0, 1, 0, 1]]\n",
    "        self.grid[ x : x+5 , y : y+5 ] = unbounded_seed\n",
    " \n",
    "    def add_glider(self, x , y):\n",
    "        glider_seed =\\\n",
    "        [[0,0,0,0,0,0,0,0,0,0,0,0,0,0,0,0,0,0,0,0,0,0,0,0,1,0,0,0,0,0,0,0,0,0,0,0],\n",
    "         [0,0,0,0,0,0,0,0,0,0,0,0,0,0,0,0,0,0,0,0,0,0,1,0,1,0,0,0,0,0,0,0,0,0,0,0],\n",
    "         [0,0,0,0,0,0,0,0,0,0,0,0,1,1,0,0,0,0,0,0,1,1,0,0,0,0,0,0,0,0,0,0,0,0,1,1],\n",
    "         [0,0,0,0,0,0,0,0,0,0,0,1,0,0,0,1,0,0,0,0,1,1,0,0,0,0,0,0,0,0,0,0,0,0,1,1],\n",
    "         [1,1,0,0,0,0,0,0,0,0,1,0,0,0,0,0,1,0,0,0,1,1,0,0,0,0,0,0,0,0,0,0,0,0,0,0],\n",
    "         [1,1,0,0,0,0,0,0,0,0,1,0,0,0,1,0,1,1,0,0,0,0,1,0,1,0,0,0,0,0,0,0,0,0,0,0],\n",
    "         [0,0,0,0,0,0,0,0,0,0,1,0,0,0,0,0,1,0,0,0,0,0,0,0,1,0,0,0,0,0,0,0,0,0,0,0],\n",
    "         [0,0,0,0,0,0,0,0,0,0,0,1,0,0,0,1,0,0,0,0,0,0,0,0,0,0,0,0,0,0,0,0,0,0,0,0],\n",
    "         [0,0,0,0,0,0,0,0,0,0,0,0,1,1,0,0,0,0,0,0,0,0,0,0,0,0,0,0,0,0,0,0,0,0,0,0]]\n",
    "        self.grid[ x : x+9 , y:y+36 ] = glider_seed\n",
    "\n",
    "    def add_ship(self , x , y):\n",
    "        spaceship_seed = [[0, 0, 1, 1, 0],\n",
    "             [1, 1, 0, 1, 1],\n",
    "             [1, 1, 1, 1, 0],\n",
    "             [0, 1, 1, 0, 0]]\n",
    "        self.grid[ x : x+4 , y : y+5 ] = spaceship_seed\n",
    "\n",
    "    def clear(self):\n",
    "        self.grid = np.zeros((self.x_max , self.y_max))\n",
    "        \n",
    "\n",
    "    def randomize(self):\n",
    "        self.grid = np.random.randint(2, size = (self.x_max , self.y_max))\n",
    "        \n",
    "    def display(self):\n",
    "        plt.imshow(self.grid, cmap='binary')\n",
    "        plt.show()\n",
    "        \n",
    "    def step_forward(self):\n",
    "        future = np.zeros((self.x_max , self.y_max))\n",
    "        for x in range( self.x_max - 1 ):\n",
    "            for y in range( self.y_max - 1 ):\n",
    "                count = self.count_neighbors( x , y )\n",
    "                if self.grid[x , y] == 1 and 2<= count <=3:\n",
    "                    future[ x , y ] = int(1)\n",
    "                elif self.grid[x , y] == 0 and count == 3:\n",
    "                    future[ x , y ] = int(1)\n",
    "        self.grid = future\n",
    "        \n",
    "    def count_neighbors(self, x , y ):\n",
    "        x_range , y_range = self.get_ranges( x , y )\n",
    "        if self.grid[ x , y ] == 1:\n",
    "            count = -1\n",
    "        else:\n",
    "            count = 0\n",
    "        for x in ( x_range ):\n",
    "            for y in ( y_range ):\n",
    "                if self.grid[ x , y ] == 1:\n",
    "                    count = count + 1\n",
    "        return count\n",
    "    \n",
    "    def get_ranges(self , x , y ):\n",
    "        if x == (self.x_max-1):\n",
    "            x_range = [ self.x_max-2 , self.x_max-1 , 0 ]\n",
    "        if x == 0:\n",
    "            x_range = [ self.x_max-1 , 0, 1 ]\n",
    "        else:\n",
    "            x_range = [ x-1, x , x+1 ]\n",
    "        if y == self.y_max-1:\n",
    "            y_range = [ self.y_max-2, self.y_max-1, 0 ]\n",
    "        if y == 0:\n",
    "            y_range = [ self.y_max-1 , 0, 1 ]\n",
    "        else:\n",
    "            y_range = [ y-1 , y , y+1 ]\n",
    "        return x_range , y_range"
   ]
  },
  {
   "cell_type": "code",
   "execution_count": 83,
   "metadata": {
    "collapsed": false
   },
   "outputs": [
    {
     "data": {
      "text/plain": [
       "([7, 8, 9], [7, 8, 9])"
      ]
     },
     "execution_count": 83,
     "metadata": {},
     "output_type": "execute_result"
    },
    {
     "data": {
      "image/png": "[encoded data removed]",
      "text/plain": [
       "<matplotlib.figure.Figure at 0x1105c34e0>"
      ]
     },
     "metadata": {},
     "output_type": "display_data"
    }
   ],
   "source": [
    "test=Universe(20,20)\n",
    "test.randomize()\n",
    "test.display()\n",
    "a=test.get_ranges(8,8)\n",
    "a"
   ]
  },
  {
   "cell_type": "code",
   "execution_count": 70,
   "metadata": {
    "collapsed": false,
    "scrolled": true
   },
   "outputs": [
    {
     "data": {
      "image/png": "[encoded data removed]",
      "text/plain": [
       "<matplotlib.figure.Figure at 0x10ffbda90>"
      ]
     },
     "metadata": {},
     "output_type": "display_data"
    }
   ],
   "source": [
    "test.step_forward()\n",
    "test.display()"
   ]
  },
  {
   "cell_type": "code",
   "execution_count": 71,
   "metadata": {
    "collapsed": false,
    "scrolled": true
   },
   "outputs": [
    {
     "data": {
      "image/png": "[encoded data removed]",
      "text/plain": [
       "<matplotlib.figure.Figure at 0x10fb71898>"
      ]
     },
     "metadata": {},
     "output_type": "display_data"
    }
   ],
   "source": [
    "test.step_forward()\n",
    "test.display()\n"
   ]
  },
  {
   "cell_type": "code",
   "execution_count": 84,
   "metadata": {
    "collapsed": false,
    "scrolled": true
   },
   "outputs": [],
   "source": [
    "current_universe=test"
   ]
  },
  {
   "cell_type": "code",
   "execution_count": 73,
   "metadata": {
    "collapsed": false
   },
   "outputs": [],
   "source": [
    "#def step_forward(universe):\n",
    "#    y_max , x_max = universe.shape \n",
    "#    new_universe = np.zeros(( x_max , y_max ))\n",
    "#    for x in range( x_max - 1 ):\n",
    "#        for y in range( y_max - 1 ):\n",
    "#            count = count_neighbors( universe , x , y )\n",
    "#            if universe[x , y] == 1 and 2<= count <=3:\n",
    "#                new_universe[ x , y ] = int(1)\n",
    "#            elif universe[x , y] == 0 and count == 3:\n",
    "#                new_universe[ x , y ] = int(1)\n",
    "#    return new_universe"
   ]
  },
  {
   "cell_type": "code",
   "execution_count": null,
   "metadata": {
    "collapsed": true
   },
   "outputs": [],
   "source": []
  },
  {
   "cell_type": "code",
   "execution_count": null,
   "metadata": {
    "collapsed": true
   },
   "outputs": [],
   "source": []
  },
  {
   "cell_type": "code",
   "execution_count": 74,
   "metadata": {
    "collapsed": true
   },
   "outputs": [],
   "source": [
    "#def life(generations):\n",
    "#    past = np.random.randint(2, size=(xmax,ymax))\n",
    "#    for i in range(generations):\n",
    "#        future = step_forward(past)\n",
    "#        past = future\n",
    "#        display(future)"
   ]
  },
  {
   "cell_type": "code",
   "execution_count": 75,
   "metadata": {
    "collapsed": false
   },
   "outputs": [],
   "source": [
    "#def generate_movie_frames(universe , generations):\n",
    "#    multiverse = {}\n",
    "#    past = universe\n",
    "#    for i in range(generations):\n",
    "#        future = step_forward(past)\n",
    "#        multiverse[i] = future\n",
    "#        past = future\n",
    "#    return multiverse"
   ]
  },
  {
   "cell_type": "code",
   "execution_count": 76,
   "metadata": {
    "collapsed": false
   },
   "outputs": [],
   "source": [
    "def make_movie(generations):\n",
    "    fig , ax = plt.subplots(figsize=(8,6))\n",
    "    movie = FuncAnimation(fig, animate, frames = range(generations), interval=2000)\n",
    "    movie.save('movie6.mp4', writer=writer)"
   ]
  },
  {
   "cell_type": "code",
   "execution_count": 77,
   "metadata": {
    "collapsed": true
   },
   "outputs": [],
   "source": [
    "def animate(i):\n",
    "    global current_universe\n",
    "    current_universe.step_forward()\n",
    "    plt.imshow(current_universe.grid , cmap = 'binary')\n",
    "    ax.set_title(\"Generation #{}\".format(i), fontsize=20)"
   ]
  },
  {
   "cell_type": "code",
   "execution_count": 78,
   "metadata": {
    "collapsed": false
   },
   "outputs": [
    {
     "data": {
      "image/png": "[encoded data removed]",
      "text/plain": [
       "<matplotlib.figure.Figure at 0x10fb1d6a0>"
      ]
     },
     "metadata": {},
     "output_type": "display_data"
    }
   ],
   "source": [
    "generations = 10\n",
    "#movie_frames = generate_movie_frames(uni.grid , generations)\n",
    "#fig , ax = plt.subplots(figsize=(8,6))\n",
    "movie = FuncAnimation(fig, animate, frames = range(generations), interval=2000)\n",
    "#blit = True , init_func = init)\n",
    "movie.save('movie5.mp4', writer=writer)"
   ]
  },
  {
   "cell_type": "code",
   "execution_count": 80,
   "metadata": {
    "collapsed": false
   },
   "outputs": [],
   "source": [
    "#uni=Universe(65,65)\n",
    "##uni.add_ship(25,10)\n",
    "#uni.add_source(20,20)\n",
    "#uni.add_glider(15,10)\n",
    "#uni.add_source(40,40)\n",
    "#uni.add_source(10,10)\n",
    "#uni.add_ship(20,40)\n",
    "#uni.add_ship(18,50)\n",
    "#uni.add_source(50,10)\n",
    "#uni.add_source(40,10)\n",
    "#uni.add_ship(30,40)\n",
    "#uni.add_ship(35,45)\n",
    "#uni.add_glider(25,25)\n",
    "#uni.randomize()"
   ]
  }
 ],
 "metadata": {
  "anaconda-cloud": {},
  "kernelspec": {
   "display_name": "Python [Root]",
   "language": "python",
   "name": "Python [Root]"
  },
  "language_info": {
   "codemirror_mode": {
    "name": "ipython",
    "version": 3
   },
   "file_extension": ".py",
   "mimetype": "text/x-python",
   "name": "python",
   "nbconvert_exporter": "python",
   "pygments_lexer": "ipython3",
   "version": "3.5.2"
  }
 },
 "nbformat": 4,
 "nbformat_minor": 0
}
