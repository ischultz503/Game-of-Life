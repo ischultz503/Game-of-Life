{
 "cells": [
  {
   "cell_type": "code",
   "execution_count": 7,
   "metadata": {
    "collapsed": true
   },
   "outputs": [],
   "source": [
    "import numpy as np\n",
    "from matplotlib import animation\n",
    "from matplotlib.animation import FuncAnimation\n",
    "import matplotlib.pyplot as plt\n",
    "%matplotlib inline"
   ]
  },
  {
   "cell_type": "code",
   "execution_count": 8,
   "metadata": {
    "collapsed": true
   },
   "outputs": [],
   "source": [
    "Writer = animation.writers['ffmpeg']\n",
    "writer = Writer(fps = 15, bitrate=180)"
   ]
  },
  {
   "cell_type": "code",
   "execution_count": 9,
   "metadata": {
    "collapsed": true
   },
   "outputs": [],
   "source": [
    "class Universe:\n",
    "    def __init__(self, x_max , y_max):\n",
    "        self.x_max = x_max\n",
    "        self.y_max = y_max\n",
    "        self.grid = np.zeros((x_max, y_max))\n",
    "        \n",
    "    def add_source(self, x , y):\n",
    "        unbounded_seed = [[1, 1, 1, 0, 1],\n",
    "                     [1, 0, 0, 0, 0],\n",
    "                     [0, 0, 0, 1, 1],\n",
    "                     [0, 1, 1, 0, 1],\n",
    "                     [1, 0, 1, 0, 1]]\n",
    "        self.grid[ x : x+5 , y : y+5 ] = unbounded_seed\n",
    " \n",
    "    def add_glider(self, x , y):\n",
    "        glider_seed =\\\n",
    "        [[0,0,0,0,0,0,0,0,0,0,0,0,0,0,0,0,0,0,0,0,0,0,0,0,1,0,0,0,0,0,0,0,0,0,0,0],\n",
    "         [0,0,0,0,0,0,0,0,0,0,0,0,0,0,0,0,0,0,0,0,0,0,1,0,1,0,0,0,0,0,0,0,0,0,0,0],\n",
    "         [0,0,0,0,0,0,0,0,0,0,0,0,1,1,0,0,0,0,0,0,1,1,0,0,0,0,0,0,0,0,0,0,0,0,1,1],\n",
    "         [0,0,0,0,0,0,0,0,0,0,0,1,0,0,0,1,0,0,0,0,1,1,0,0,0,0,0,0,0,0,0,0,0,0,1,1],\n",
    "         [1,1,0,0,0,0,0,0,0,0,1,0,0,0,0,0,1,0,0,0,1,1,0,0,0,0,0,0,0,0,0,0,0,0,0,0],\n",
    "         [1,1,0,0,0,0,0,0,0,0,1,0,0,0,1,0,1,1,0,0,0,0,1,0,1,0,0,0,0,0,0,0,0,0,0,0],\n",
    "         [0,0,0,0,0,0,0,0,0,0,1,0,0,0,0,0,1,0,0,0,0,0,0,0,1,0,0,0,0,0,0,0,0,0,0,0],\n",
    "         [0,0,0,0,0,0,0,0,0,0,0,1,0,0,0,1,0,0,0,0,0,0,0,0,0,0,0,0,0,0,0,0,0,0,0,0],\n",
    "         [0,0,0,0,0,0,0,0,0,0,0,0,1,1,0,0,0,0,0,0,0,0,0,0,0,0,0,0,0,0,0,0,0,0,0,0]]\n",
    "        self.grid[ x : x+9 , y:y+36 ] = glider_seed\n",
    "\n",
    "    def add_ship(self , x , y):\n",
    "        spaceship_seed = [[0, 0, 1, 1, 0],\n",
    "             [1, 1, 0, 1, 1],\n",
    "             [1, 1, 1, 1, 0],\n",
    "             [0, 1, 1, 0, 0]]\n",
    "        self.grid[ x : x+4 , y : y+5 ] = spaceship_seed\n",
    "\n",
    "    def clear(self):\n",
    "        self.grid = np.zeros((self.x_max , self.y_max))\n",
    "        \n",
    "\n",
    "    def randomize(self):\n",
    "        self.grid = np.random.randint(2, size = (self.x_max , self.y_max))\n",
    "        \n",
    "    def display(self):\n",
    "        plt.imshow(self.grid, cmap='binary')\n",
    "        plt.show()\n",
    "        \n",
    "    def step_forward(self):\n",
    "        future = np.zeros((self.x_max , self.y_max))\n",
    "        for x in range( self.x_max - 1 ):\n",
    "            for y in range( self.y_max - 1 ):\n",
    "                count = self.count_neighbors( x , y )\n",
    "                if self.grid[x , y] == 1 and 2<= count <=3:\n",
    "                    future[ x , y ] = int(1)\n",
    "                elif self.grid[x , y] == 0 and count == 3:\n",
    "                    future[ x , y ] = int(1)\n",
    "        self.grid = future\n",
    "        \n",
    "    def count_neighbors(self, x , y ):\n",
    "        x_range , y_range = self.get_ranges( x , y )\n",
    "        if self.grid[ x , y ] == 1:\n",
    "            count = -1\n",
    "        else:\n",
    "            count = 0\n",
    "        for x in ( x_range ):\n",
    "            for y in ( y_range ):\n",
    "                if self.grid[ x , y ] == 1:\n",
    "                    count = count + 1\n",
    "        return count\n",
    "    \n",
    "    def get_ranges(self , x , y ):\n",
    "        if x == (self.x_max-1):\n",
    "            x_range = [ self.x_max-2 , self.x_max-1 , 0 ]\n",
    "        if x == 0:\n",
    "            x_range = [ self.x_max-1 , 0, 1 ]\n",
    "        else:\n",
    "            x_range = [ x-1, x , x+1 ]\n",
    "        if y == self.y_max-1:\n",
    "            y_range = [ self.y_max-2, self.y_max-1, 0 ]\n",
    "        if y == 0:\n",
    "            y_range = [ self.y_max-1 , 0, 1 ]\n",
    "        else:\n",
    "            y_range = [ y-1 , y , y+1 ]\n",
    "        return x_range , y_range"
   ]
  },
  {
   "cell_type": "code",
   "execution_count": 10,
   "metadata": {
    "collapsed": true
   },
   "outputs": [],
   "source": [
    "def init():\n",
    "    line.set_data([], [])\n",
    "    time_text.set_text('')\n",
    "    energy_text.set_text('')\n",
    "    return line, time_text, energy_text"
   ]
  },
  {
   "cell_type": "code",
   "execution_count": 5,
   "metadata": {
    "collapsed": true
   },
   "outputs": [],
   "source": [
    "def animate(i):\n",
    "    line.set_data(*pendulum.position())\n",
    "    time_text.set_text('time = %.1f' % pendulum.time_elapsed)\n",
    "    energy_text.set_text('energy = %.3f J' % pendulum.energy())\n",
    "   \n",
    "    plt.imshow(image , cmap = 'binary')\n",
    "    #ax.set_title(\"Generation #{}\".format(i), fontsize=20)\n",
    "    return line, time_text, energy_text"
   ]
  },
  {
   "cell_type": "code",
   "execution_count": 6,
   "metadata": {
    "collapsed": true
   },
   "outputs": [],
   "source": [
    "def make_movie(generations):\n",
    "    fig , ax = plt.subplots(figsize=(8,6))\n",
    "    movie = FuncAnimation(fig, banimate, frames = range(generations), interval=200 )\n",
    "    movie.save('wooHoo.mp4', writer=writer)"
   ]
  },
  {
   "cell_type": "code",
   "execution_count": null,
   "metadata": {
    "collapsed": true
   },
   "outputs": [],
   "source": []
  },
  {
   "cell_type": "code",
   "execution_count": null,
   "metadata": {
    "collapsed": true
   },
   "outputs": [],
   "source": []
  },
  {
   "cell_type": "code",
   "execution_count": null,
   "metadata": {
    "collapsed": true
   },
   "outputs": [],
   "source": []
  },
  {
   "cell_type": "code",
   "execution_count": null,
   "metadata": {
    "collapsed": true
   },
   "outputs": [],
   "source": []
  }
 ],
 "metadata": {
  "anaconda-cloud": {},
  "kernelspec": {
   "display_name": "Python [Root]",
   "language": "python",
   "name": "Python [Root]"
  },
  "language_info": {
   "codemirror_mode": {
    "name": "ipython",
    "version": 3
   },
   "file_extension": ".py",
   "mimetype": "text/x-python",
   "name": "python",
   "nbconvert_exporter": "python",
   "pygments_lexer": "ipython3",
   "version": "3.5.2"
  }
 },
 "nbformat": 4,
 "nbformat_minor": 0
}
